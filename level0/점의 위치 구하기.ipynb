{
 "cells": [
  {
   "cell_type": "code",
   "execution_count": null,
   "metadata": {},
   "outputs": [],
   "source": [
    "def solution(dot):\n",
    "    if (dot[0] > 0) & (dot[1] > 0) :\n",
    "        return  1\n",
    "    elif (dot[0] < 0) & (dot[1] > 0) :\n",
    "        return  2\n",
    "    elif (dot[0] < 0) & (dot[1] < 0) :\n",
    "        return  3\n",
    "    elif (dot[0] > 0) & (dot[1] < 0) :\n",
    "        return  4"
   ]
  }
 ],
 "metadata": {
  "language_info": {
   "name": "python"
  },
  "orig_nbformat": 4
 },
 "nbformat": 4,
 "nbformat_minor": 2
}
