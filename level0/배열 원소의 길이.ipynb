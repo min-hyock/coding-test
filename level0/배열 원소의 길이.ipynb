{
 "cells": [
  {
   "cell_type": "code",
   "execution_count": null,
   "metadata": {},
   "outputs": [],
   "source": [
    "def solution(strlist):\n",
    "    result = []\n",
    "    for i in range(len(strlist)):\n",
    "        result.append(len(strlist[i]))\n",
    "    return result"
   ]
  }
 ],
 "metadata": {
  "language_info": {
   "name": "python"
  },
  "orig_nbformat": 4
 },
 "nbformat": 4,
 "nbformat_minor": 2
}
