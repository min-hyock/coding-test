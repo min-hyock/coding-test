{
 "cells": [
  {
   "cell_type": "code",
   "execution_count": null,
   "metadata": {},
   "outputs": [],
   "source": [
    "def solution(angle):\n",
    "    if angle < 90 :\n",
    "        answer = 1\n",
    "    elif angle == 90 :\n",
    "        answer = 2\n",
    "    elif angle < 180 :\n",
    "        answer = 3\n",
    "    elif angle == 180 :\n",
    "        answer = 4\n",
    "    return answer"
   ]
  }
 ],
 "metadata": {
  "language_info": {
   "name": "python"
  },
  "orig_nbformat": 4
 },
 "nbformat": 4,
 "nbformat_minor": 2
}
