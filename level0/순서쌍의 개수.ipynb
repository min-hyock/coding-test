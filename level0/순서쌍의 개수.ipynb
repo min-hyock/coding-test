{
 "cells": [
  {
   "cell_type": "code",
   "execution_count": null,
   "metadata": {},
   "outputs": [],
   "source": [
    "def solution(n):\n",
    "    result = 0\n",
    "    for i in range(1,n+1):\n",
    "        if n % i == 0 :\n",
    "            result += 1\n",
    "    return result   "
   ]
  }
 ],
 "metadata": {
  "language_info": {
   "name": "python"
  },
  "orig_nbformat": 4
 },
 "nbformat": 4,
 "nbformat_minor": 2
}
